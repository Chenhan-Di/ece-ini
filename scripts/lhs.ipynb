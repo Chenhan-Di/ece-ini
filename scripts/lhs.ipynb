{
 "cells": [
  {
   "cell_type": "code",
   "execution_count": null,
   "id": "46abfd6e-f48f-46a9-97f5-f4dbc7fbd17e",
   "metadata": {},
   "outputs": [],
   "source": [
    "!pip install pyDOE"
   ]
  },
  {
   "cell_type": "code",
   "execution_count": null,
   "id": "16540ce1-0ce0-4f5b-8892-75b8fc48c33a",
   "metadata": {},
   "outputs": [],
   "source": [
    "import numpy as np\n",
    "from pyDOE import lhs\n",
    "\n",
    "def lhs_sampling(n_samples, param_ranges):\n",
    "    n_parameters = len(param_ranges)\n",
    "\n",
    "    #Generate LHS samples in [0, 1]\n",
    "    lhs_samples = lhs(n_parameters, samples=n_samples)\n",
    "\n",
    "    #Scale LHS samples to the parameter ranges\n",
    "    samples = np.zeros_like(lhs_samples)\n",
    "    for i, (low, high) in enumerate(param_ranges):\n",
    "        samples[:, i] = low + lhs_samples[:, i] * (high - low)\n",
    "\n",
    "    return samples\n",
    "\n",
    "# Define parameter ranges\n",
    "param_ranges = [\n",
    "    (0, 1),\n",
    "    (0, 15),\n",
    "    (35, 45),\n",
    "    (-1000, 0),\n",
    "    (0, 1000),\n",
    "    (0, 5),\n",
    "    #(0.1,2),\n",
    "    #(1, 3),\n",
    "]\n",
    "\n",
    "# Samples number\n",
    "n_samples = 60\n",
    "samples = lhs_sampling(n_samples, param_ranges)\n",
    "\n",
    "print(samples)"
   ]
  }
 ],
 "metadata": {
  "kernelspec": {
   "display_name": "Python 3 (ipykernel)",
   "language": "python",
   "name": "python3"
  },
  "language_info": {
   "codemirror_mode": {
    "name": "ipython",
    "version": 3
   },
   "file_extension": ".py",
   "mimetype": "text/x-python",
   "name": "python",
   "nbconvert_exporter": "python",
   "pygments_lexer": "ipython3",
   "version": "3.12.9"
  }
 },
 "nbformat": 4,
 "nbformat_minor": 5
}
